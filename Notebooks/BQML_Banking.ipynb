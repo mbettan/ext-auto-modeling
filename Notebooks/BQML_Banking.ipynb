{
 "cells": [
  {
   "cell_type": "markdown",
   "metadata": {},
   "source": [
    "<b>Create BigQuery ML model (processed)</b>"
   ]
  },
  {
   "cell_type": "code",
   "execution_count": null,
   "metadata": {},
   "outputs": [],
   "source": [
    "%%bigquery\n",
    "CREATE OR REPLACE MODEL `model_dataset.BQML_XGB_processed`\n",
    "OPTIONS(\n",
    "model_type='BOOSTED_TREE_CLASSIFIER',\n",
    "DATA_SPLIT_METHOD = 'AUTO_SPLIT', \n",
    "INPUT_LABEL_COLS = ['y']) AS\n",
    "SELECT * FROM `p_dataset.processed_bank`"
   ]
  },
  {
   "cell_type": "markdown",
   "metadata": {},
   "source": [
    "<b>Generate training metrics</b>"
   ]
  },
  {
   "cell_type": "code",
   "execution_count": null,
   "metadata": {},
   "outputs": [],
   "source": [
    "%%bigquery\n",
    "SELECT\n",
    "    *\n",
    "FROM\n",
    "  ML.TRAINING_INFO(MODEL `model_dataset.BQML_XGB_processed`)"
   ]
  },
  {
   "cell_type": "markdown",
   "metadata": {},
   "source": [
    "<b>Generate ROC_CURVE metrics</b>"
   ]
  },
  {
   "cell_type": "code",
   "execution_count": null,
   "metadata": {},
   "outputs": [],
   "source": [
    "%%bigquery\n",
    "SELECT\n",
    "  *\n",
    "FROM ML.ROC_CURVE(MODEL `model_dataset.BQML_XGB_processed`, (\n",
    "SELECT * FROM `p_dataset.processed_bank`))"
   ]
  },
  {
   "cell_type": "markdown",
   "metadata": {},
   "source": [
    "<b>Generate CONFUSION_MATRIX information</b>"
   ]
  },
  {
   "cell_type": "code",
   "execution_count": null,
   "metadata": {},
   "outputs": [],
   "source": [
    "%%bigquery\n",
    "SELECT\n",
    "  *\n",
    "FROM ML.CONFUSION_MATRIX(MODEL `model_dataset.BQML_XGB_processed`, (\n",
    "SELECT * FROM `p_dataset.processed_bank`))"
   ]
  },
  {
   "cell_type": "markdown",
   "metadata": {},
   "source": [
    "<b>Generate feature information</b>"
   ]
  },
  {
   "cell_type": "code",
   "execution_count": null,
   "metadata": {},
   "outputs": [],
   "source": [
    "%%bigquery\n",
    "SELECT\n",
    "    *\n",
    "FROM\n",
    "  ML.FEATURE_INFO(MODEL `model_dataset.BQML_XGB_processed`)"
   ]
  },
  {
   "cell_type": "markdown",
   "metadata": {},
   "source": [
    "<b>Generate weights information</b>"
   ]
  },
  {
   "cell_type": "code",
   "execution_count": null,
   "metadata": {},
   "outputs": [],
   "source": [
    "%%bigquery\n",
    "SELECT\n",
    "    *\n",
    "FROM\n",
    "  ML.WEIGHTS(MODEL `model_dataset.BQML_XGB_processed`)"
   ]
  },
  {
   "cell_type": "markdown",
   "metadata": {},
   "source": [
    "<b>Evaluate BigQuery ML model</b>\n"
   ]
  },
  {
   "cell_type": "code",
   "execution_count": null,
   "metadata": {},
   "outputs": [],
   "source": [
    "%%bigquery\n",
    "SELECT\n",
    "*\n",
    "FROM ML.EVALUATE(MODEL `model_dataset.BQML_XGB_processed`, (\n",
    "SELECT * FROM `p_dataset.processed_bank`))"
   ]
  },
  {
   "cell_type": "markdown",
   "metadata": {},
   "source": [
    "<b>Predict purchases per user for BigQuery ML model</b>"
   ]
  },
  {
   "cell_type": "code",
   "execution_count": null,
   "metadata": {},
   "outputs": [],
   "source": [
    "%%bigquery\n",
    "SELECT\n",
    "  predicted_y\n",
    "FROM ML.PREDICT(MODEL `model_dataset.BQML_XGB_processed`, (\n",
    "SELECT * FROM `p_dataset.processed_bank`))"
   ]
  },
  {
   "cell_type": "markdown",
   "metadata": {},
   "source": [
    "<b>Export BigQuery ML model</b>"
   ]
  },
  {
   "cell_type": "code",
   "execution_count": null,
   "metadata": {},
   "outputs": [],
   "source": [
    "! bq extract --model \\\n",
    "--destination_format ML_XGBOOST_BOOSTER \\\n",
    "model_dataset.BQML_XGB_processed \\\n",
    "gs://auto-modeling-v402_models_bucket/XGB_processed"
   ]
  },
  {
   "cell_type": "markdown",
   "metadata": {},
   "source": [
    "<b>-----------------------</b>"
   ]
  },
  {
   "cell_type": "markdown",
   "metadata": {},
   "source": [
    "<b>Create BigQuery ML model (raw)</b>"
   ]
  },
  {
   "cell_type": "code",
   "execution_count": null,
   "metadata": {},
   "outputs": [],
   "source": [
    "%%bigquery\n",
    "CREATE OR REPLACE MODEL `model_dataset.BQML_XGB_raw`\n",
    "OPTIONS(\n",
    "model_type='BOOSTED_TREE_CLASSIFIER',\n",
    "DATA_SPLIT_METHOD = 'AUTO_SPLIT', \n",
    "INPUT_LABEL_COLS = ['y']) AS\n",
    "SELECT * FROM `r_dataset.raw_bank`"
   ]
  },
  {
   "cell_type": "markdown",
   "metadata": {},
   "source": [
    "<b>Generate training metrics</b>"
   ]
  },
  {
   "cell_type": "code",
   "execution_count": null,
   "metadata": {},
   "outputs": [],
   "source": [
    "%%bigquery\n",
    "SELECT\n",
    "    *\n",
    "FROM\n",
    "  ML.TRAINING_INFO(MODEL `model_dataset.BQML_XGB_raw`)"
   ]
  },
  {
   "cell_type": "markdown",
   "metadata": {},
   "source": [
    "<b>Generate ROC_CURVE metrics</b>"
   ]
  },
  {
   "cell_type": "code",
   "execution_count": null,
   "metadata": {},
   "outputs": [],
   "source": [
    "%%bigquery\n",
    "SELECT\n",
    "  *\n",
    "FROM ML.ROC_CURVE(MODEL `model_dataset.BQML_XGB_raw`, (\n",
    "SELECT * FROM `r_dataset.raw_bank`))"
   ]
  },
  {
   "cell_type": "markdown",
   "metadata": {},
   "source": [
    "<b>Generate CONFUSION_MATRIX information</b>"
   ]
  },
  {
   "cell_type": "code",
   "execution_count": null,
   "metadata": {},
   "outputs": [],
   "source": [
    "%%bigquery\n",
    "SELECT\n",
    "  *\n",
    "FROM ML.CONFUSION_MATRIX(MODEL `model_dataset.BQML_XGB_raw`, (\n",
    "SELECT * FROM `r_dataset.raw_bank`))"
   ]
  },
  {
   "cell_type": "markdown",
   "metadata": {},
   "source": [
    "<b>Generate feature information</b>"
   ]
  },
  {
   "cell_type": "code",
   "execution_count": null,
   "metadata": {},
   "outputs": [],
   "source": [
    "%%bigquery\n",
    "SELECT\n",
    "    *\n",
    "FROM\n",
    "  ML.FEATURE_INFO(MODEL `model_dataset.BQML_XGB_raw`)"
   ]
  },
  {
   "cell_type": "markdown",
   "metadata": {},
   "source": [
    "<b>Generate weights information</b>"
   ]
  },
  {
   "cell_type": "code",
   "execution_count": null,
   "metadata": {},
   "outputs": [],
   "source": [
    "%%bigquery\n",
    "SELECT\n",
    "    *\n",
    "FROM\n",
    "  ML.WEIGHTS(MODEL `model_dataset.BQML_XGB_raw`)"
   ]
  },
  {
   "cell_type": "markdown",
   "metadata": {},
   "source": [
    "<b>Evaluate BigQuery ML model</b>\n"
   ]
  },
  {
   "cell_type": "code",
   "execution_count": null,
   "metadata": {},
   "outputs": [],
   "source": [
    "%%bigquery\n",
    "SELECT\n",
    "*\n",
    "FROM ML.EVALUATE(MODEL `model_dataset.BQML_XGB_raw`, (\n",
    "SELECT * FROM `r_dataset.raw_bank`))"
   ]
  },
  {
   "cell_type": "markdown",
   "metadata": {},
   "source": [
    "<b>Predict purchases per user for BigQuery ML model</b>"
   ]
  },
  {
   "cell_type": "code",
   "execution_count": null,
   "metadata": {},
   "outputs": [],
   "source": [
    "%%bigquery\n",
    "SELECT\n",
    "  predicted_y\n",
    "FROM ML.PREDICT(MODEL `model_dataset.BQML_XGB_raw`, (\n",
    "SELECT * FROM `r_dataset.raw_bank`))"
   ]
  },
  {
   "cell_type": "markdown",
   "metadata": {},
   "source": [
    "<b>Export BigQuery ML model</b>"
   ]
  },
  {
   "cell_type": "code",
   "execution_count": null,
   "metadata": {},
   "outputs": [],
   "source": [
    "! bq extract --model \\\n",
    "--destination_format ML_XGBOOST_BOOSTER \\\n",
    "model_dataset.BQML_XGB_raw \\\n",
    "gs://auto-modeling-v402_models_bucket/XGB_raw"
   ]
  }
 ],
 "metadata": {
  "environment": {
   "name": "common-cpu.m49",
   "type": "gcloud",
   "uri": "gcr.io/deeplearning-platform-release/base-cpu:m49"
  },
  "kernelspec": {
   "display_name": "Python 3",
   "language": "python",
   "name": "python3"
  },
  "language_info": {
   "codemirror_mode": {
    "name": "ipython",
    "version": 3
   },
   "file_extension": ".py",
   "mimetype": "text/x-python",
   "name": "python",
   "nbconvert_exporter": "python",
   "pygments_lexer": "ipython3",
   "version": "3.7.6"
  }
 },
 "nbformat": 4,
 "nbformat_minor": 4
}
