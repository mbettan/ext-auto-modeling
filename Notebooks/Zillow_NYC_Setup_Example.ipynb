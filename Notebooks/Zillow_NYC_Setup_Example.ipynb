{
 "cells": [
  {
   "cell_type": "markdown",
   "metadata": {},
   "source": [
    "<b>Install necessary Python updates as well as import AutoML library</b>"
   ]
  },
  {
   "cell_type": "code",
   "execution_count": null,
   "metadata": {},
   "outputs": [],
   "source": [
    "! pip install --upgrade pip\n",
    "! pip install --upgrade google-cloud-automl\n",
    "\n",
    "from google.cloud import automl_v1beta1 as automl"
   ]
  },
  {
   "cell_type": "markdown",
   "metadata": {},
   "source": [
    "<b>Create necessary variables</b>"
   ]
  },
  {
   "cell_type": "code",
   "execution_count": null,
   "metadata": {},
   "outputs": [],
   "source": [
    "PROJECT_ID = 'auto-modeling-v402'\n",
    "REGION = 'us-central1'\n",
    "\n",
    "RAW_SB = 'auto-modeling-v402_raw_data'\n",
    "\n",
    "ZILLOW_PATH = 'bq://' + PROJECT_ID + '.r_dataset.zillow_data'\n",
    "NYC_PATH = 'bq://' + PROJECT_ID + '.r_dataset.nyc_taxi_data'\n",
    "ZILLOW_DATASET_DN = 'zillow_dataset'\n",
    "NYC_DATASET_DN = 'NYC_taxi_dataset'\n",
    "ZILLOW_MODEL = 'zillow_model_v1'\n",
    "NYC_MODEL = 'NYC_taxi_model_v1'\n",
    "ZILLOW_TARGET_COLUMN = 'logerror'\n",
    "NYC_TARGET_COLUMN = 'fare_amount'\n",
    "\n",
    "TRAIN_BUDGET = 2000"
   ]
  },
  {
   "cell_type": "markdown",
   "metadata": {},
   "source": [
    "<b>Create datasets in AutoML</b>"
   ]
  },
  {
   "cell_type": "code",
   "execution_count": null,
   "metadata": {},
   "outputs": [],
   "source": [
    "client = automl.TablesClient(project=PROJECT_ID, region=REGION)\n",
    "\n",
    "dataset = client.create_dataset(ZILLOW_DATASET_DN)\n",
    "dataset = client.create_dataset(NYC_DATASET_DN)"
   ]
  },
  {
   "cell_type": "markdown",
   "metadata": {},
   "source": [
    "<b>Import data into AutoML datasets from BigQuery</b>"
   ]
  },
  {
   "cell_type": "code",
   "execution_count": null,
   "metadata": {},
   "outputs": [],
   "source": [
    "if ZILLOW_PATH.startswith(\"bq\"):\n",
    "    response = client.import_data(\n",
    "        dataset_display_name=ZILLOW_DATASET_DN,\n",
    "        bigquery_input_uri=ZILLOW_PATH\n",
    "    )\n",
    "    \n",
    "if NYC_PATH.startswith(\"bq\"):\n",
    "    response = client.import_data(\n",
    "        dataset_display_name=NYC_DATASET_DN,\n",
    "        bigquery_input_uri=NYC_PATH\n",
    "    )"
   ]
  },
  {
   "cell_type": "markdown",
   "metadata": {},
   "source": [
    "<b>Set target columns, update nullable columns, and train models</b>"
   ]
  },
  {
   "cell_type": "code",
   "execution_count": null,
   "metadata": {},
   "outputs": [],
   "source": [
    "client.set_target_column(\n",
    "    dataset_display_name=ZILLOW_DATASET_DN,\n",
    "    column_spec_display_name=ZILLOW_TARGET_COLUMN\n",
    ")\n",
    "\n",
    "response = client.create_model(\n",
    "    ZILLOW_MODEL,\n",
    "    train_budget_milli_node_hours=TRAIN_BUDGET,\n",
    "    dataset_display_name=ZILLOW_DATASET_DN,\n",
    "    optimization_objective='MAE',\n",
    "    exclude_column_spec_names=[ZILLOW_TARGET_COLUMN]\n",
    ")"
   ]
  },
  {
   "cell_type": "code",
   "execution_count": null,
   "metadata": {},
   "outputs": [],
   "source": [
    "client.set_target_column(\n",
    "    dataset_display_name=NYC_DATASET_DN,\n",
    "    column_spec_display_name=NYC_TARGET_COLUMN\n",
    ")\n",
    "\n",
    "client.update_column_spec(\n",
    "    dataset_display_name=NYC_DATASET_DN,\n",
    "    column_spec_display_name='dropoff_latitude',\n",
    "    nullable=True\n",
    ")\n",
    "\n",
    "client.update_column_spec(\n",
    "    dataset_display_name=NYC_DATASET_DN,\n",
    "    column_spec_display_name='dropoff_longitude',\n",
    "    nullable=True\n",
    ")\n",
    "\n",
    "response = client.create_model(\n",
    "    NYC_MODEL,\n",
    "    train_budget_milli_node_hours=TRAIN_BUDGET,\n",
    "    dataset_display_name=NYC_DATASET_DN,\n",
    "    exclude_column_spec_names=[NYC_TARGET_COLUMN]\n",
    ")"
   ]
  }
 ],
 "metadata": {
  "environment": {
   "name": "common-cpu.m49",
   "type": "gcloud",
   "uri": "gcr.io/deeplearning-platform-release/base-cpu:m49"
  },
  "kernelspec": {
   "display_name": "Python 3",
   "language": "python",
   "name": "python3"
  },
  "language_info": {
   "codemirror_mode": {
    "name": "ipython",
    "version": 3
   },
   "file_extension": ".py",
   "mimetype": "text/x-python",
   "name": "python",
   "nbconvert_exporter": "python",
   "pygments_lexer": "ipython3",
   "version": "3.7.6"
  }
 },
 "nbformat": 4,
 "nbformat_minor": 4
}
